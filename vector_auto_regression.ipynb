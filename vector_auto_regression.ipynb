{
 "cells": [
  {
   "cell_type": "markdown",
   "metadata": {},
   "source": [
    "### Vector_auto_regression "
   ]
  },
  {
   "cell_type": "code",
   "execution_count": 24,
   "metadata": {},
   "outputs": [],
   "source": [
    "import glob\n",
    "import pandas as pd\n",
    "import numpy as np\n",
    "import requests\n",
    "#import html5lib\n",
    "from bs4 import BeautifulSoup\n",
    "import datetime\n",
    "import re\n",
    "\n",
    "\n",
    "tweets_path = 'Tweets/bitcoin/'\n",
    "crypto_name = 'bitcoin' \n",
    "dates=[]"
   ]
  },
  {
   "cell_type": "code",
   "execution_count": 25,
   "metadata": {},
   "outputs": [],
   "source": [
    "cols = ['date','polarity']\n",
    "lst = []\n",
    "df1 = pd.DataFrame(lst, columns=cols)\n",
    "lst_dict = []\n",
    "time_pol={}  # dict of date and polarity.\n",
    "\n",
    "for f in glob.glob( str(tweets_path) + crypto_name + '*.txt'): # f is file name.\n",
    "\n",
    "    df_datawise = pd.read_csv(f, sep='\\t', encoding='utf-8', parse_dates=True)\n",
    "    polarity = 0.00\n",
    "\n",
    "    ct=0;\n",
    "    for idx,row in df_datawise.iterrows():\n",
    "        polarity += float(row[\"polarity\"])\n",
    "        dt=row[\"date\"]\n",
    "        ct=ct+1\n",
    "    avg_pol=float(polarity/ct)\n",
    "    lst_dict.append({'date':dt, 'polarity':avg_pol,})\n",
    "    time_pol[dt]=avg_pol\n",
    "\n",
    "            \n",
    "df4 = df1.append(lst_dict) # avg polarity dataframe"
   ]
  },
  {
   "cell_type": "code",
   "execution_count": 26,
   "metadata": {},
   "outputs": [],
   "source": [
    "df_price=pd.read_csv(\"bitcoin.csv\", encoding='utf-8', parse_dates=True)\n"
   ]
  },
  {
   "cell_type": "code",
   "execution_count": 27,
   "metadata": {},
   "outputs": [
    {
     "data": {
      "text/plain": [
       "525600"
      ]
     },
     "execution_count": 27,
     "metadata": {},
     "output_type": "execute_result"
    }
   ],
   "source": [
    "df_price['Timestamp'].size\n"
   ]
  },
  {
   "cell_type": "code",
   "execution_count": 28,
   "metadata": {},
   "outputs": [],
   "source": [
    "cols = ['Timestamp','Close']\n",
    "lst = []\n",
    "df_price1 = pd.DataFrame(lst, columns=cols)\n",
    "lst_dict1 = []"
   ]
  },
  {
   "cell_type": "code",
   "execution_count": 29,
   "metadata": {},
   "outputs": [],
   "source": [
    "df_price['Timestamp']=pd.to_datetime(df_price['Timestamp'])\n",
    "for idx,r in df_price.iterrows():\n",
    "    dt = r[\"Timestamp\"].strftime(\"%Y-%m-%d\")\n",
    "#     print(time)\n",
    "#     if(dt==\"2017-02-11\"):\n",
    "#         print(dt)\n",
    "    if dt in time_pol.keys():\n",
    "        lst_dict1.append({'Timestamp':r['Timestamp'], 'Close':r['Close'],})\n",
    "#         print(dt)\n",
    "df_price_new = df_price1.append(lst_dict1)  #dataframe of 91 days"
   ]
  },
  {
   "cell_type": "code",
   "execution_count": 30,
   "metadata": {},
   "outputs": [
    {
     "data": {
      "text/html": [
       "<div>\n",
       "<style scoped>\n",
       "    .dataframe tbody tr th:only-of-type {\n",
       "        vertical-align: middle;\n",
       "    }\n",
       "\n",
       "    .dataframe tbody tr th {\n",
       "        vertical-align: top;\n",
       "    }\n",
       "\n",
       "    .dataframe thead th {\n",
       "        text-align: right;\n",
       "    }\n",
       "</style>\n",
       "<table border=\"1\" class=\"dataframe\">\n",
       "  <thead>\n",
       "    <tr style=\"text-align: right;\">\n",
       "      <th></th>\n",
       "      <th>Timestamp</th>\n",
       "      <th>Close</th>\n",
       "    </tr>\n",
       "  </thead>\n",
       "  <tbody>\n",
       "    <tr>\n",
       "      <th>0</th>\n",
       "      <td>2017-09-01 00:00:00</td>\n",
       "      <td>4740.00</td>\n",
       "    </tr>\n",
       "    <tr>\n",
       "      <th>1</th>\n",
       "      <td>2017-09-01 00:01:00</td>\n",
       "      <td>4740.00</td>\n",
       "    </tr>\n",
       "    <tr>\n",
       "      <th>2</th>\n",
       "      <td>2017-09-01 00:02:00</td>\n",
       "      <td>4739.90</td>\n",
       "    </tr>\n",
       "    <tr>\n",
       "      <th>3</th>\n",
       "      <td>2017-09-01 00:03:00</td>\n",
       "      <td>4738.59</td>\n",
       "    </tr>\n",
       "    <tr>\n",
       "      <th>4</th>\n",
       "      <td>2017-09-01 00:04:00</td>\n",
       "      <td>4736.09</td>\n",
       "    </tr>\n",
       "    <tr>\n",
       "      <th>...</th>\n",
       "      <td>...</td>\n",
       "      <td>...</td>\n",
       "    </tr>\n",
       "    <tr>\n",
       "      <th>131035</th>\n",
       "      <td>2017-11-30 23:55:00</td>\n",
       "      <td>9800.01</td>\n",
       "    </tr>\n",
       "    <tr>\n",
       "      <th>131036</th>\n",
       "      <td>2017-11-30 23:56:00</td>\n",
       "      <td>9775.99</td>\n",
       "    </tr>\n",
       "    <tr>\n",
       "      <th>131037</th>\n",
       "      <td>2017-11-30 23:57:00</td>\n",
       "      <td>9751.06</td>\n",
       "    </tr>\n",
       "    <tr>\n",
       "      <th>131038</th>\n",
       "      <td>2017-11-30 23:58:00</td>\n",
       "      <td>9769.99</td>\n",
       "    </tr>\n",
       "    <tr>\n",
       "      <th>131039</th>\n",
       "      <td>2017-11-30 23:59:00</td>\n",
       "      <td>9770.00</td>\n",
       "    </tr>\n",
       "  </tbody>\n",
       "</table>\n",
       "<p>131040 rows × 2 columns</p>\n",
       "</div>"
      ],
      "text/plain": [
       "                 Timestamp    Close\n",
       "0      2017-09-01 00:00:00  4740.00\n",
       "1      2017-09-01 00:01:00  4740.00\n",
       "2      2017-09-01 00:02:00  4739.90\n",
       "3      2017-09-01 00:03:00  4738.59\n",
       "4      2017-09-01 00:04:00  4736.09\n",
       "...                    ...      ...\n",
       "131035 2017-11-30 23:55:00  9800.01\n",
       "131036 2017-11-30 23:56:00  9775.99\n",
       "131037 2017-11-30 23:57:00  9751.06\n",
       "131038 2017-11-30 23:58:00  9769.99\n",
       "131039 2017-11-30 23:59:00  9770.00\n",
       "\n",
       "[131040 rows x 2 columns]"
      ]
     },
     "execution_count": 30,
     "metadata": {},
     "output_type": "execute_result"
    }
   ],
   "source": [
    "df_price_new"
   ]
  },
  {
   "cell_type": "code",
   "execution_count": 31,
   "metadata": {},
   "outputs": [],
   "source": [
    "price_arr=df_price_new.to_numpy()"
   ]
  },
  {
   "cell_type": "code",
   "execution_count": 32,
   "metadata": {},
   "outputs": [
    {
     "data": {
      "text/plain": [
       "(131040, 2)"
      ]
     },
     "execution_count": 32,
     "metadata": {},
     "output_type": "execute_result"
    }
   ],
   "source": [
    "price_arr.shape\n"
   ]
  },
  {
   "cell_type": "markdown",
   "metadata": {},
   "source": [
    "### creating data frame"
   ]
  },
  {
   "cell_type": "code",
   "execution_count": 33,
   "metadata": {},
   "outputs": [],
   "source": [
    "cols = ['Timestamp','Polarity','Price']\n",
    "lst = []\n",
    "df_price_final = pd.DataFrame(lst, columns=cols)\n",
    "lst_dict2 = []\n",
    "\n",
    "for i in range(1,62):\n",
    "    cols.append(str(i))\n",
    "    \n",
    "\n",
    "\n",
    "i=0\n",
    "while (i< price_arr.shape[0]):\n",
    "#     print(price_arr[i,0])\n",
    "    dt = price_arr[i,0].strftime(\"%Y-%m-%d\")\n",
    "    polarity=time_pol[dt]\n",
    "    dict_63={}\n",
    "    price=0\n",
    "    while(i< price_arr.shape[0] and dt==price_arr[i,0].strftime(\"%Y-%m-%d\")):\n",
    "        price=price+price_arr[i,1]\n",
    "        i=i+1\n",
    "        ct=ct+1\n",
    "        \n",
    "    avg_pr=price/ct\n",
    "    dict_63['Timestamp']=dt\n",
    "    dict_63['Polarity']=polarity\n",
    "    dict_63['Price']=avg_pr\n",
    "    lst_dict2.append(dict_63)\n",
    "    \n",
    "    \n",
    "    \n",
    "\n",
    "        \n",
    "df_final=df_price_final.append(lst_dict2)"
   ]
  },
  {
   "cell_type": "code",
   "execution_count": 34,
   "metadata": {},
   "outputs": [
    {
     "data": {
      "text/html": [
       "<div>\n",
       "<style scoped>\n",
       "    .dataframe tbody tr th:only-of-type {\n",
       "        vertical-align: middle;\n",
       "    }\n",
       "\n",
       "    .dataframe tbody tr th {\n",
       "        vertical-align: top;\n",
       "    }\n",
       "\n",
       "    .dataframe thead th {\n",
       "        text-align: right;\n",
       "    }\n",
       "</style>\n",
       "<table border=\"1\" class=\"dataframe\">\n",
       "  <thead>\n",
       "    <tr style=\"text-align: right;\">\n",
       "      <th></th>\n",
       "      <th>Timestamp</th>\n",
       "      <th>Polarity</th>\n",
       "      <th>Price</th>\n",
       "    </tr>\n",
       "  </thead>\n",
       "  <tbody>\n",
       "    <tr>\n",
       "      <th>0</th>\n",
       "      <td>2017-09-01</td>\n",
       "      <td>0.095204</td>\n",
       "      <td>3307.658505</td>\n",
       "    </tr>\n",
       "    <tr>\n",
       "      <th>1</th>\n",
       "      <td>2017-09-02</td>\n",
       "      <td>0.085108</td>\n",
       "      <td>1955.923156</td>\n",
       "    </tr>\n",
       "    <tr>\n",
       "      <th>2</th>\n",
       "      <td>2017-09-03</td>\n",
       "      <td>0.087569</td>\n",
       "      <td>1348.163036</td>\n",
       "    </tr>\n",
       "    <tr>\n",
       "      <th>3</th>\n",
       "      <td>2017-09-04</td>\n",
       "      <td>0.087290</td>\n",
       "      <td>1014.192134</td>\n",
       "    </tr>\n",
       "    <tr>\n",
       "      <th>4</th>\n",
       "      <td>2017-09-05</td>\n",
       "      <td>0.100801</td>\n",
       "      <td>808.729080</td>\n",
       "    </tr>\n",
       "    <tr>\n",
       "      <th>...</th>\n",
       "      <td>...</td>\n",
       "      <td>...</td>\n",
       "      <td>...</td>\n",
       "    </tr>\n",
       "    <tr>\n",
       "      <th>86</th>\n",
       "      <td>2017-11-26</td>\n",
       "      <td>0.116530</td>\n",
       "      <td>102.786000</td>\n",
       "    </tr>\n",
       "    <tr>\n",
       "      <th>87</th>\n",
       "      <td>2017-11-27</td>\n",
       "      <td>0.115579</td>\n",
       "      <td>108.765809</td>\n",
       "    </tr>\n",
       "    <tr>\n",
       "      <th>88</th>\n",
       "      <td>2017-11-28</td>\n",
       "      <td>0.102703</td>\n",
       "      <td>109.812027</td>\n",
       "    </tr>\n",
       "    <tr>\n",
       "      <th>89</th>\n",
       "      <td>2017-11-29</td>\n",
       "      <td>0.093324</td>\n",
       "      <td>115.923256</td>\n",
       "    </tr>\n",
       "    <tr>\n",
       "      <th>90</th>\n",
       "      <td>2017-11-30</td>\n",
       "      <td>0.094750</td>\n",
       "      <td>109.876370</td>\n",
       "    </tr>\n",
       "  </tbody>\n",
       "</table>\n",
       "<p>91 rows × 3 columns</p>\n",
       "</div>"
      ],
      "text/plain": [
       "     Timestamp  Polarity        Price\n",
       "0   2017-09-01  0.095204  3307.658505\n",
       "1   2017-09-02  0.085108  1955.923156\n",
       "2   2017-09-03  0.087569  1348.163036\n",
       "3   2017-09-04  0.087290  1014.192134\n",
       "4   2017-09-05  0.100801   808.729080\n",
       "..         ...       ...          ...\n",
       "86  2017-11-26  0.116530   102.786000\n",
       "87  2017-11-27  0.115579   108.765809\n",
       "88  2017-11-28  0.102703   109.812027\n",
       "89  2017-11-29  0.093324   115.923256\n",
       "90  2017-11-30  0.094750   109.876370\n",
       "\n",
       "[91 rows x 3 columns]"
      ]
     },
     "execution_count": 34,
     "metadata": {},
     "output_type": "execute_result"
    }
   ],
   "source": [
    "df_final"
   ]
  },
  {
   "cell_type": "code",
   "execution_count": 36,
   "metadata": {},
   "outputs": [],
   "source": [
    "df_final.to_csv(r'day_avg.csv')"
   ]
  },
  {
   "cell_type": "markdown",
   "metadata": {},
   "source": [
    "## Augmented Dickey-Fuller Test (ADF Test)\n",
    "### Price:\n",
    "P value for price is 0.015<.05. Hence we can neglect Null Hypothesis and price feature's time series is stationary."
   ]
  },
  {
   "cell_type": "code",
   "execution_count": 38,
   "metadata": {},
   "outputs": [
    {
     "name": "stdout",
     "output_type": "stream",
     "text": [
      "ADF Statistic: -3.283814\n",
      "p-value: 0.015618\n",
      "Critical Values:\n",
      "\t1%: -3.515\n",
      "\t5%: -2.898\n",
      "\t10%: -2.586\n"
     ]
    }
   ],
   "source": [
    "\n",
    "from pandas import read_csv\n",
    "from statsmodels.tsa.stattools import adfuller\n",
    "# series = read_csv('daily-total-female-births.csv', header=0, index_col=0, squeeze=True)\n",
    "# X = series.values\n",
    "result = adfuller(df_final['Price'])\n",
    "print('ADF Statistic: %f' % result[0])\n",
    "print('p-value: %f' % result[1])\n",
    "print('Critical Values:')\n",
    "for key, value in result[4].items():\n",
    "    print('\\t%s: %.3f' % (key, value))\n",
    "    \n"
   ]
  },
  {
   "cell_type": "markdown",
   "metadata": {},
   "source": [
    "### Polarity:\n",
    "P value for price is 0<.05. Hence we can neglect Null Hypothesis and price feature's time series is stationary."
   ]
  },
  {
   "cell_type": "code",
   "execution_count": 40,
   "metadata": {},
   "outputs": [
    {
     "name": "stdout",
     "output_type": "stream",
     "text": [
      "ADF Statistic: -6.080220\n",
      "p-value: 0.000000\n",
      "Critical Values:\n",
      "\t1%: -3.505\n",
      "\t5%: -2.894\n",
      "\t10%: -2.584\n"
     ]
    }
   ],
   "source": [
    "from pandas import read_csv\n",
    "from statsmodels.tsa.stattools import adfuller\n",
    "# series = read_csv('daily-total-female-births.csv', header=0, index_col=0, squeeze=True)\n",
    "# X = series.values\n",
    "result = adfuller(df_final['Polarity'])\n",
    "print('ADF Statistic: %f' % result[0])\n",
    "print('p-value: %f' % result[1])\n",
    "print('Critical Values:')\n",
    "for key, value in result[4].items():\n",
    "    print('\\t%s: %.3f' % (key, value))\n",
    "    \n"
   ]
  },
  {
   "cell_type": "code",
   "execution_count": 46,
   "metadata": {},
   "outputs": [
    {
     "data": {
      "text/html": [
       "<div>\n",
       "<style scoped>\n",
       "    .dataframe tbody tr th:only-of-type {\n",
       "        vertical-align: middle;\n",
       "    }\n",
       "\n",
       "    .dataframe tbody tr th {\n",
       "        vertical-align: top;\n",
       "    }\n",
       "\n",
       "    .dataframe thead th {\n",
       "        text-align: right;\n",
       "    }\n",
       "</style>\n",
       "<table border=\"1\" class=\"dataframe\">\n",
       "  <thead>\n",
       "    <tr style=\"text-align: right;\">\n",
       "      <th></th>\n",
       "      <th>Timestamp</th>\n",
       "      <th>Polarity</th>\n",
       "      <th>Price</th>\n",
       "    </tr>\n",
       "  </thead>\n",
       "  <tbody>\n",
       "    <tr>\n",
       "      <th>0</th>\n",
       "      <td>2017-09-01</td>\n",
       "      <td>0.095204</td>\n",
       "      <td>3307.658505</td>\n",
       "    </tr>\n",
       "    <tr>\n",
       "      <th>1</th>\n",
       "      <td>2017-09-02</td>\n",
       "      <td>0.085108</td>\n",
       "      <td>1955.923156</td>\n",
       "    </tr>\n",
       "    <tr>\n",
       "      <th>2</th>\n",
       "      <td>2017-09-03</td>\n",
       "      <td>0.087569</td>\n",
       "      <td>1348.163036</td>\n",
       "    </tr>\n",
       "    <tr>\n",
       "      <th>3</th>\n",
       "      <td>2017-09-04</td>\n",
       "      <td>0.087290</td>\n",
       "      <td>1014.192134</td>\n",
       "    </tr>\n",
       "    <tr>\n",
       "      <th>4</th>\n",
       "      <td>2017-09-05</td>\n",
       "      <td>0.100801</td>\n",
       "      <td>808.729080</td>\n",
       "    </tr>\n",
       "    <tr>\n",
       "      <th>...</th>\n",
       "      <td>...</td>\n",
       "      <td>...</td>\n",
       "      <td>...</td>\n",
       "    </tr>\n",
       "    <tr>\n",
       "      <th>86</th>\n",
       "      <td>2017-11-26</td>\n",
       "      <td>0.116530</td>\n",
       "      <td>102.786000</td>\n",
       "    </tr>\n",
       "    <tr>\n",
       "      <th>87</th>\n",
       "      <td>2017-11-27</td>\n",
       "      <td>0.115579</td>\n",
       "      <td>108.765809</td>\n",
       "    </tr>\n",
       "    <tr>\n",
       "      <th>88</th>\n",
       "      <td>2017-11-28</td>\n",
       "      <td>0.102703</td>\n",
       "      <td>109.812027</td>\n",
       "    </tr>\n",
       "    <tr>\n",
       "      <th>89</th>\n",
       "      <td>2017-11-29</td>\n",
       "      <td>0.093324</td>\n",
       "      <td>115.923256</td>\n",
       "    </tr>\n",
       "    <tr>\n",
       "      <th>90</th>\n",
       "      <td>2017-11-30</td>\n",
       "      <td>0.094750</td>\n",
       "      <td>109.876370</td>\n",
       "    </tr>\n",
       "  </tbody>\n",
       "</table>\n",
       "<p>91 rows × 3 columns</p>\n",
       "</div>"
      ],
      "text/plain": [
       "     Timestamp  Polarity        Price\n",
       "0   2017-09-01  0.095204  3307.658505\n",
       "1   2017-09-02  0.085108  1955.923156\n",
       "2   2017-09-03  0.087569  1348.163036\n",
       "3   2017-09-04  0.087290  1014.192134\n",
       "4   2017-09-05  0.100801   808.729080\n",
       "..         ...       ...          ...\n",
       "86  2017-11-26  0.116530   102.786000\n",
       "87  2017-11-27  0.115579   108.765809\n",
       "88  2017-11-28  0.102703   109.812027\n",
       "89  2017-11-29  0.093324   115.923256\n",
       "90  2017-11-30  0.094750   109.876370\n",
       "\n",
       "[91 rows x 3 columns]"
      ]
     },
     "execution_count": 46,
     "metadata": {},
     "output_type": "execute_result"
    }
   ],
   "source": [
    "df_final"
   ]
  },
  {
   "cell_type": "markdown",
   "metadata": {},
   "source": [
    "### VAR daywise prediction"
   ]
  },
  {
   "cell_type": "code",
   "execution_count": 116,
   "metadata": {},
   "outputs": [],
   "source": [
    "x=df_final.drop(columns=['Timestamp'])"
   ]
  },
  {
   "cell_type": "code",
   "execution_count": 117,
   "metadata": {},
   "outputs": [],
   "source": [
    "data=x.to_numpy()"
   ]
  },
  {
   "cell_type": "code",
   "execution_count": 194,
   "metadata": {},
   "outputs": [
    {
     "name": "stderr",
     "output_type": "stream",
     "text": [
      "/home/himanshu/.local/lib/python3.8/site-packages/statsmodels/base/wrapper.py:34: FutureWarning: y is a deprecated alias for endog, will be removed in version 0.11.0\n",
      "  obj = getattr(results, attr)\n"
     ]
    }
   ],
   "source": [
    "train = data[:int(0.9*(len(data)))]\n",
    "valid = data[int(0.1*(len(data))):]\n",
    "\n",
    "#fit the model\n",
    "from statsmodels.tsa.vector_ar.var_model import VAR\n",
    "\n",
    "model = VAR(endog=train)\n",
    "model_fit = model.fit()\n",
    "\n",
    "# make prediction on validation\n",
    "prediction = model_fit.forecast(model_fit.y, steps=len(valid))"
   ]
  },
  {
   "cell_type": "code",
   "execution_count": 195,
   "metadata": {},
   "outputs": [
    {
     "data": {
      "text/plain": [
       "(82, 2)"
      ]
     },
     "execution_count": 195,
     "metadata": {},
     "output_type": "execute_result"
    }
   ],
   "source": [
    "valid.shape"
   ]
  },
  {
   "cell_type": "code",
   "execution_count": 121,
   "metadata": {},
   "outputs": [],
   "source": [
    "y_pred=[]\n",
    "for i in range(prediction.shape[0]):\n",
    "    y_pred.append(prediction[i][1])\n"
   ]
  },
  {
   "cell_type": "code",
   "execution_count": 122,
   "metadata": {},
   "outputs": [],
   "source": [
    "y_act=[]\n",
    "for i in range(valid.shape[0]):\n",
    "    y_act.append(valid[i][1])"
   ]
  },
  {
   "cell_type": "code",
   "execution_count": 70,
   "metadata": {},
   "outputs": [],
   "source": [
    "from sklearn.metrics import r2_score"
   ]
  },
  {
   "cell_type": "code",
   "execution_count": 72,
   "metadata": {},
   "outputs": [
    {
     "data": {
      "text/plain": [
       "-37.71174274223873"
      ]
     },
     "execution_count": 72,
     "metadata": {},
     "output_type": "execute_result"
    }
   ],
   "source": [
    "r2_score(y_act, y_pred)"
   ]
  },
  {
   "cell_type": "markdown",
   "metadata": {},
   "source": [
    "### VAR minutewise prediction"
   ]
  },
  {
   "cell_type": "code",
   "execution_count": 125,
   "metadata": {},
   "outputs": [],
   "source": [
    "df=pd.read_csv('time_frame.csv')\n"
   ]
  },
  {
   "cell_type": "code",
   "execution_count": 126,
   "metadata": {},
   "outputs": [],
   "source": [
    "df1=x=df.drop(columns=['Timestamp','Unnamed: 0'])"
   ]
  },
  {
   "cell_type": "code",
   "execution_count": 127,
   "metadata": {},
   "outputs": [
    {
     "data": {
      "text/plain": [
       "Index(['polarity', '1', '2', '3', '4', '5', '6', '7', '8', '9', '10', '11',\n",
       "       '12', '13', '14', '15', '16', '17', '18', '19', '20', '21', '22', '23',\n",
       "       '24', '25', '26', '27', '28', '29', '30', '31', '32', '33', '34', '35',\n",
       "       '36', '37', '38', '39', '40', '41', '42', '43', '44', '45', '46', '47',\n",
       "       '48', '49', '50', '51', '52', '53', '54', '55', '56', '57', '58', '59',\n",
       "       '60', '61'],\n",
       "      dtype='object')"
      ]
     },
     "execution_count": 127,
     "metadata": {},
     "output_type": "execute_result"
    }
   ],
   "source": [
    "df1.columns"
   ]
  },
  {
   "cell_type": "code",
   "execution_count": 128,
   "metadata": {},
   "outputs": [],
   "source": [
    "# split=int(0.8*df1.shape[0])\n",
    "# train=df1.iloc[:split,:]\n",
    "# test=df1.iloc[split:,:]\n",
    "data_np=df1.to_numpy()\n"
   ]
  },
  {
   "cell_type": "code",
   "execution_count": 199,
   "metadata": {},
   "outputs": [],
   "source": [
    "train = data_np[:int(0.9*(len(data_np)))]\n",
    "valid = data_np[int(0.9*(len(data_np))):]"
   ]
  },
  {
   "cell_type": "code",
   "execution_count": 200,
   "metadata": {},
   "outputs": [
    {
     "data": {
      "text/plain": [
       "(117882, 62)"
      ]
     },
     "execution_count": 200,
     "metadata": {},
     "output_type": "execute_result"
    }
   ],
   "source": [
    "train.shape"
   ]
  },
  {
   "cell_type": "code",
   "execution_count": 201,
   "metadata": {},
   "outputs": [
    {
     "data": {
      "text/plain": [
       "(13098, 62)"
      ]
     },
     "execution_count": 201,
     "metadata": {},
     "output_type": "execute_result"
    }
   ],
   "source": [
    "valid.shape"
   ]
  },
  {
   "cell_type": "code",
   "execution_count": 202,
   "metadata": {},
   "outputs": [],
   "source": [
    "from statsmodels.tsa.vector_ar.var_model import VAR\n",
    "\n",
    "model1 = VAR(endog=train)\n",
    "model_fit = model1.fit()\n"
   ]
  },
  {
   "cell_type": "code",
   "execution_count": 203,
   "metadata": {},
   "outputs": [],
   "source": [
    "prediction1 = model_fit.forecast(model_fit.y, steps=len(valid))"
   ]
  },
  {
   "cell_type": "code",
   "execution_count": 204,
   "metadata": {},
   "outputs": [
    {
     "data": {
      "text/plain": [
       "(13098, 62)"
      ]
     },
     "execution_count": 204,
     "metadata": {},
     "output_type": "execute_result"
    }
   ],
   "source": [
    "prediction1.shape"
   ]
  },
  {
   "cell_type": "code",
   "execution_count": 214,
   "metadata": {},
   "outputs": [],
   "source": [
    "import math"
   ]
  },
  {
   "cell_type": "code",
   "execution_count": 155,
   "metadata": {},
   "outputs": [
    {
     "data": {
      "text/plain": [
       "8249.99"
      ]
     },
     "execution_count": 155,
     "metadata": {},
     "output_type": "execute_result"
    }
   ],
   "source": [
    "# valid[15000][61]"
   ]
  },
  {
   "cell_type": "code",
   "execution_count": 250,
   "metadata": {},
   "outputs": [],
   "source": [
    "y_pred=[]\n",
    "for i in range(prediction1.shape[0]):\n",
    "    y_pred.append(int(prediction1[i][61]))\n"
   ]
  },
  {
   "cell_type": "code",
   "execution_count": 253,
   "metadata": {},
   "outputs": [],
   "source": [
    "y_act=[]\n",
    "for i in range(prediction1.shape[0]):\n",
    "    y_act.append(int(valid[i][61]))"
   ]
  },
  {
   "cell_type": "code",
   "execution_count": 256,
   "metadata": {},
   "outputs": [
    {
     "data": {
      "text/plain": [
       "0.3161281351618659"
      ]
     },
     "execution_count": 256,
     "metadata": {},
     "output_type": "execute_result"
    }
   ],
   "source": [
    "r2_score(y_act,y_pred)"
   ]
  },
  {
   "cell_type": "code",
   "execution_count": null,
   "metadata": {},
   "outputs": [],
   "source": []
  }
 ],
 "metadata": {
  "kernelspec": {
   "display_name": "Python 3",
   "language": "python",
   "name": "python3"
  },
  "language_info": {
   "codemirror_mode": {
    "name": "ipython",
    "version": 3
   },
   "file_extension": ".py",
   "mimetype": "text/x-python",
   "name": "python",
   "nbconvert_exporter": "python",
   "pygments_lexer": "ipython3",
   "version": "3.8.5"
  }
 },
 "nbformat": 4,
 "nbformat_minor": 4
}
