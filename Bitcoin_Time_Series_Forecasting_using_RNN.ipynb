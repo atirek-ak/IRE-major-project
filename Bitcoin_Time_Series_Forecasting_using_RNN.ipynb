{
  "nbformat": 4,
  "nbformat_minor": 0,
  "metadata": {
    "kernelspec": {
      "display_name": "Python 3",
      "language": "python",
      "name": "python3"
    },
    "language_info": {
      "codemirror_mode": {
        "name": "ipython",
        "version": 3
      },
      "file_extension": ".py",
      "mimetype": "text/x-python",
      "name": "python",
      "nbconvert_exporter": "python",
      "pygments_lexer": "ipython3",
      "version": "3.6.5"
    },
    "colab": {
      "name": "Bitcoin Time Series Forecasting using RNN.ipynb",
      "provenance": []
    }
  },
  "cells": [
    {
      "cell_type": "code",
      "metadata": {
        "id": "hHOSqxqi2aCd",
        "outputId": "1225897d-ad70-447f-fb88-b4892d9a2418",
        "colab": {
          "base_uri": "https://localhost:8080/",
          "height": 35
        }
      },
      "source": [
        "from google.colab import drive\n",
        "drive.mount('/content/drive')"
      ],
      "execution_count": 20,
      "outputs": [
        {
          "output_type": "stream",
          "text": [
            "Drive already mounted at /content/drive; to attempt to forcibly remount, call drive.mount(\"/content/drive\", force_remount=True).\n"
          ],
          "name": "stdout"
        }
      ]
    },
    {
      "cell_type": "code",
      "metadata": {
        "id": "W_w88AmO2tnm"
      },
      "source": [
        "import numpy as np \n",
        "import pandas as pd \n",
        "from matplotlib import pyplot as plt"
      ],
      "execution_count": 21,
      "outputs": []
    },
    {
      "cell_type": "code",
      "metadata": {
        "id": "EYQ8wUQr2wY6"
      },
      "source": [
        "tweets_path = '/content/drive/My Drive/database/Tweets/bitcoin/'\n",
        "bitcoin_file = '/content/drive/My Drive/database/bitcoinHistoricalData/bitcoin.csv'\n",
        "crypto_name = 'bitcoin'"
      ],
      "execution_count": 22,
      "outputs": []
    },
    {
      "cell_type": "code",
      "metadata": {
        "id": "1mbrXaoj2X7H",
        "outputId": "553d603b-9906-425b-f879-867e1e3ca7b8",
        "colab": {
          "base_uri": "https://localhost:8080/",
          "height": 494
        }
      },
      "source": [
        "data = pd.read_csv(bitcoin_file, encoding='utf-8', parse_dates=True, usecols=[\"Timestamp\", \"Close\", \"Weighted_Price\"])\n",
        "group = data.groupby('Timestamp')\n",
        "Real_Price = group['Weighted_Price'].mean()\n",
        "print(data)\n",
        "print(Real_Price)\n",
        "# 967.372019"
      ],
      "execution_count": 23,
      "outputs": [
        {
          "output_type": "stream",
          "text": [
            "                  Timestamp     Close  Weighted_Price\n",
            "0       2017-01-01 00:00:00    967.34      967.372019\n",
            "1       2017-01-01 00:01:00    967.47      967.415156\n",
            "2       2017-01-01 00:02:00    966.65      967.333900\n",
            "3       2017-01-01 00:03:00    967.48      967.357170\n",
            "4       2017-01-01 00:04:00    966.62      967.479187\n",
            "...                     ...       ...             ...\n",
            "525595  2017-12-31 23:55:00  13961.23    13978.662816\n",
            "525596  2017-12-31 23:56:00  13930.01    13946.754817\n",
            "525597  2017-12-31 23:57:00  13930.00    13930.003929\n",
            "525598  2017-12-31 23:58:00  13930.01    13930.009965\n",
            "525599  2017-12-31 23:59:00  13931.02    13930.015248\n",
            "\n",
            "[525600 rows x 3 columns]\n",
            "Timestamp\n",
            "2017-01-01 00:00:00      967.372019\n",
            "2017-01-01 00:01:00      967.415156\n",
            "2017-01-01 00:02:00      967.333900\n",
            "2017-01-01 00:03:00      967.357170\n",
            "2017-01-01 00:04:00      967.479187\n",
            "                           ...     \n",
            "2017-12-31 23:55:00    13978.662816\n",
            "2017-12-31 23:56:00    13946.754817\n",
            "2017-12-31 23:57:00    13930.003929\n",
            "2017-12-31 23:58:00    13930.009965\n",
            "2017-12-31 23:59:00    13930.015248\n",
            "Name: Weighted_Price, Length: 525600, dtype: float64\n"
          ],
          "name": "stdout"
        }
      ]
    },
    {
      "cell_type": "code",
      "metadata": {
        "id": "Gqze0XlQ2X7V",
        "outputId": "2ea19d9e-fd10-4e0c-be5f-8160fff220f9",
        "colab": {
          "base_uri": "https://localhost:8080/",
          "height": 476
        }
      },
      "source": [
        "# We will predict here last 30 days price.\n",
        "prediction_days = 43200 # 43200m = 30 days\n",
        "# prediction_days = 60000 # 43200m = 30 days\n",
        "# Real_Price = Real_Price[:len(Real_Price)-10*prediction_days]\n",
        "df_train= Real_Price[:len(Real_Price)-prediction_days] # Training set = contains data removing the last 30 days\n",
        "df_test= Real_Price[len(Real_Price)-prediction_days:] # Test set = contains only last 30 days\n",
        "print(df_train)\n",
        "print(df_test)"
      ],
      "execution_count": 24,
      "outputs": [
        {
          "output_type": "stream",
          "text": [
            "Timestamp\n",
            "2017-01-01 00:00:00     967.372019\n",
            "2017-01-01 00:01:00     967.415156\n",
            "2017-01-01 00:02:00     967.333900\n",
            "2017-01-01 00:03:00     967.357170\n",
            "2017-01-01 00:04:00     967.479187\n",
            "                          ...     \n",
            "2017-02-04 23:55:00    1036.813793\n",
            "2017-02-04 23:56:00    1036.758949\n",
            "2017-02-04 23:57:00    1036.752810\n",
            "2017-02-04 23:58:00    1036.760000\n",
            "2017-02-04 23:59:00    1036.961518\n",
            "Name: Weighted_Price, Length: 50400, dtype: float64\n",
            "Timestamp\n",
            "2017-02-05 00:00:00    1037.520371\n",
            "2017-02-05 00:01:00    1038.131545\n",
            "2017-02-05 00:02:00    1037.855262\n",
            "2017-02-05 00:03:00    1038.577733\n",
            "2017-02-05 00:04:00    1038.783165\n",
            "                          ...     \n",
            "2017-03-06 23:55:00    1279.801693\n",
            "2017-03-06 23:56:00    1280.520094\n",
            "2017-03-06 23:57:00    1280.644383\n",
            "2017-03-06 23:58:00    1280.000000\n",
            "2017-03-06 23:59:00    1279.992297\n",
            "Name: Weighted_Price, Length: 43200, dtype: float64\n"
          ],
          "name": "stdout"
        }
      ]
    },
    {
      "cell_type": "code",
      "metadata": {
        "id": "Ng7AQv2f2X7i"
      },
      "source": [
        "# Currently, our data is in the form: [samples, features] and we are framing the problem as one time step for each sample. \n",
        "# We can transform the prepared train and test input data into the expected structure using numpy.reshape() as follows\n",
        "training_set = df_train.values\n",
        "training_set = np.reshape(training_set, (len(training_set), 1))\n",
        "# print(training_set)\n",
        "\n",
        "test_set = df_test.values\n",
        "inputs = np.reshape(test_set, (len(test_set), 1))\n",
        "# print(inputs)\n",
        "# LSTMs are sensitive to the scale of the input data, specifically when the sigmoid (default) or \n",
        "# tanh activation functions are used. It can be a good practice to rescale the data to the range \n",
        "# of 0-to-1, also called normalizing. We can easily normalize the dataset using the \n",
        "# MinMaxScaler preprocessing class from the scikit-learn library\n",
        "from sklearn.preprocessing import MinMaxScaler\n",
        "sc = MinMaxScaler(feature_range=(0, 1)) # changed here\n",
        "training_set = sc.fit_transform(training_set) # transforming Training data set\n",
        "# print(training_set)\n",
        "inputs = sc.transform(inputs) # transforming Test data set\n",
        "# print(inputs)\n",
        "# reshape into X=t and Y=t+1 ie., in training data set value at t will be mapped to value at t+1\n",
        "X_train = training_set[0:len(training_set)-1]\n",
        "y_train = training_set[1:len(training_set)]\n",
        "# Here we are training the model with previous min value with the next min value\n",
        "# Therefore X_train will contain one value less than training set and\n",
        "# y_train will not have the starting value of training set\n",
        "\n",
        "X_train = np.reshape(X_train, (len(X_train), 1, 1))\n",
        "# print(X_train)\n",
        "inputs = np.reshape(inputs, (len(inputs), 1, 1))\n",
        "# print(inputs)"
      ],
      "execution_count": 25,
      "outputs": []
    },
    {
      "cell_type": "code",
      "metadata": {
        "id": "Jgy8Sw-Q2X7q",
        "outputId": "2139f130-66b8-4bf4-a318-2f2cdb5ffb5e",
        "colab": {
          "base_uri": "https://localhost:8080/",
          "height": 176
        }
      },
      "source": [
        "# Importing the Keras libraries and packages\n",
        "from keras.models import Sequential\n",
        "from keras.layers import Dense\n",
        "from keras.layers import LSTM\n",
        "\n",
        "# Initialising the RNN\n",
        "regressor = Sequential()\n",
        "\n",
        "# Adding the input layer and the LSTM layer (4 LSTM blocks or neurons).\n",
        "# Default sigmoid activation function is used for the LSTM blocks.\n",
        "regressor.add(LSTM(units = 4, activation = 'sigmoid', input_shape=(1, 1)))\n",
        "\n",
        "# Adding the output layer\n",
        "regressor.add(Dense(units = 1))\n",
        "\n",
        "# Compiling the RNN\n",
        "regressor.compile(optimizer = 'adam', loss = 'mean_squared_error')\n",
        "\n",
        "# Fitting the RNN to the Training set\n",
        "regressor.fit(X_train, y_train, batch_size = 5, epochs = 4)"
      ],
      "execution_count": 26,
      "outputs": [
        {
          "output_type": "stream",
          "text": [
            "Epoch 1/4\n",
            "10080/10080 [==============================] - 12s 1ms/step - loss: 0.0092\n",
            "Epoch 2/4\n",
            "10080/10080 [==============================] - 12s 1ms/step - loss: 1.9834e-05\n",
            "Epoch 3/4\n",
            "10080/10080 [==============================] - 12s 1ms/step - loss: 1.2624e-05\n",
            "Epoch 4/4\n",
            "10080/10080 [==============================] - 12s 1ms/step - loss: 1.1766e-05\n"
          ],
          "name": "stdout"
        },
        {
          "output_type": "execute_result",
          "data": {
            "text/plain": [
              "<tensorflow.python.keras.callbacks.History at 0x7fc7af2068d0>"
            ]
          },
          "metadata": {
            "tags": []
          },
          "execution_count": 26
        }
      ]
    },
    {
      "cell_type": "code",
      "metadata": {
        "id": "uxUmBKb42X70",
        "outputId": "e865a324-e91f-4639-9999-d70219b21f27",
        "colab": {
          "base_uri": "https://localhost:8080/",
          "height": 511
        }
      },
      "source": [
        "# Making the predictions\n",
        "predicted_BTC_price = regressor.predict(inputs)\n",
        "predicted_BTC_price = sc.inverse_transform(predicted_BTC_price)\n",
        "# print(predicted_BTC_price)\n",
        "dataframe = pd.DataFrame.from_records(predicted_BTC_price)\n",
        "print(dataframe)\n",
        "dataframe.columns = ['Predicted_Price']\n",
        "df_test = df_test.to_frame(name='Actual_Price')\n",
        "df_test = df_test.reset_index()\n",
        "df = pd.concat([df_test, dataframe], axis=1)\n",
        "print(df)"
      ],
      "execution_count": 27,
      "outputs": [
        {
          "output_type": "stream",
          "text": [
            "                 0\n",
            "0      1039.114746\n",
            "1      1039.723022\n",
            "2      1039.448120\n",
            "3      1040.167114\n",
            "4      1040.371338\n",
            "...            ...\n",
            "43195  1254.755859\n",
            "43196  1255.293457\n",
            "43197  1255.386475\n",
            "43198  1254.904419\n",
            "43199  1254.898682\n",
            "\n",
            "[43200 rows x 1 columns]\n",
            "                 Timestamp  Actual_Price  Predicted_Price\n",
            "0      2017-02-05 00:00:00   1037.520371      1039.114746\n",
            "1      2017-02-05 00:01:00   1038.131545      1039.723022\n",
            "2      2017-02-05 00:02:00   1037.855262      1039.448120\n",
            "3      2017-02-05 00:03:00   1038.577733      1040.167114\n",
            "4      2017-02-05 00:04:00   1038.783165      1040.371338\n",
            "...                    ...           ...              ...\n",
            "43195  2017-03-06 23:55:00   1279.801693      1254.755859\n",
            "43196  2017-03-06 23:56:00   1280.520094      1255.293457\n",
            "43197  2017-03-06 23:57:00   1280.644383      1255.386475\n",
            "43198  2017-03-06 23:58:00   1280.000000      1254.904419\n",
            "43199  2017-03-06 23:59:00   1279.992297      1254.898682\n",
            "\n",
            "[43200 rows x 3 columns]\n"
          ],
          "name": "stdout"
        }
      ]
    },
    {
      "cell_type": "code",
      "metadata": {
        "id": "Bb4EZDrhO5GH"
      },
      "source": [
        "import matplotlib.pyplot as plt\n",
        "x1=df['Timestamp']\n",
        "y1=df['Predicted_Price']\n",
        "print(x1.shape)\n",
        "plt.figure(figsize = (25,10))\n",
        "plt.plot(x1, y1, label = \"Predicted BTC price\", linewidth=0.5)\n",
        "x2 = df['Timestamp']\n",
        "# print(x2)\n",
        "y2 = df['Actual_Price']\n",
        "plt.plot(x2, y2, label = \"Actual BTC Price\", linewidth=0.5)\n",
        "plt.title(\"Time Series Forecasting by RNN\")\n",
        "# print(\"Before legend\")\n",
        "plt.legend()\n",
        "# print(\"Before show\")\n",
        "# plt.xlim(x1[0],x1[len(x1)-1])\n",
        "# plt.ylim(y1[0],y1[len(y1)-1])\n",
        "plt.axis()\n",
        "plt.show()"
      ],
      "execution_count": null,
      "outputs": []
    }
  ]
}