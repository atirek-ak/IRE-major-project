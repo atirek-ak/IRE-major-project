{
  "nbformat": 4,
  "nbformat_minor": 0,
  "metadata": {
    "colab": {
      "name": "Time series analysis.ipynb",
      "provenance": []
    },
    "kernelspec": {
      "name": "python3",
      "display_name": "Python 3"
    }
  },
  "cells": [
    {
      "cell_type": "code",
      "metadata": {
        "id": "1W5YDeNMp6DW",
        "outputId": "843ba5fa-b847-4d14-bc57-62774c2786ef",
        "colab": {
          "base_uri": "https://localhost:8080/"
        }
      },
      "source": [
        "from google.colab import drive\n",
        "drive.mount('/content/drive')"
      ],
      "execution_count": 16,
      "outputs": [
        {
          "output_type": "stream",
          "text": [
            "Drive already mounted at /content/drive; to attempt to forcibly remount, call drive.mount(\"/content/drive\", force_remount=True).\n"
          ],
          "name": "stdout"
        }
      ]
    },
    {
      "cell_type": "code",
      "metadata": {
        "id": "P83r88mF5lJn"
      },
      "source": [
        "# !pip install jupyterlab ipywidgets"
      ],
      "execution_count": 17,
      "outputs": []
    },
    {
      "cell_type": "code",
      "metadata": {
        "id": "scxPdbOtp9i_"
      },
      "source": [
        "import numpy as np \n",
        "import pandas as pd \n",
        "from matplotlib import pyplot as plt\n",
        "import glob\n",
        "from bs4 import BeautifulSoup\n",
        "import datetime\n",
        "import re"
      ],
      "execution_count": 18,
      "outputs": []
    },
    {
      "cell_type": "code",
      "metadata": {
        "id": "6caSMaYGrCt7"
      },
      "source": [
        "def percentage(part, whole):\n",
        "    return 100 * float(part)/float(whole)"
      ],
      "execution_count": 19,
      "outputs": []
    },
    {
      "cell_type": "code",
      "metadata": {
        "id": "b7fgoenFqACo"
      },
      "source": [
        "tweets_path = '/content/drive/My Drive/database/Tweets/bitcoin/'\n",
        "bitcoin_file = '/content/drive/My Drive/database/bitcoinHistoricalData/bitcoin.csv'\n",
        "crypto_name = 'bitcoin'"
      ],
      "execution_count": 20,
      "outputs": []
    },
    {
      "cell_type": "code",
      "metadata": {
        "id": "MWFeLiixqAiF"
      },
      "source": [
        "# initializing dataframes\n",
        "df_noOfTweets = pd.DataFrame(columns=['date','positive', 'neutral', 'negative', 'total']) # for the barchart of no. of tweets\n",
        "df_polarity_line = pd.DataFrame(columns=['date','polarity']) # for the polarity line chart\n",
        "\n",
        "# Tweets about each crypto is taken from saved txt files with dates ranging from 2017-09-01 to 2017-11-30\n",
        "# Tweets are collected by selenium automated script written in python\n",
        "for f in glob.glob( str(tweets_path) + crypto_name + '*.txt'):\n",
        "    df_datawise = pd.read_csv(f, sep='\\t', encoding='utf-8', parse_dates=True)\n",
        "    polarity = 0.00\n",
        "    neutral = positive = negative = 0\n",
        "    for idx,row in df_datawise.iterrows():\n",
        "        polarity += float(row[\"polarity\"])\n",
        "        \n",
        "        # adding reaction of how people are reacting to find average later\n",
        "        if (float(row[\"polarity\"]) >= -0.1 and float(row[\"polarity\"]) <= 0.1):  \n",
        "            neutral += 1\n",
        "        elif (float(row[\"polarity\"]) > 0.1):\n",
        "            positive += 1\n",
        "        elif (float(row[\"polarity\"]) <-0.1):\n",
        "            negative += 1\n",
        "    positive = percentage(positive, len(df_datawise.index))\n",
        "    negative = percentage(negative, len(df_datawise.index))\n",
        "    neutral = percentage(neutral, len(df_datawise.index))\n",
        "    # below df format is for barchart with sentiments\n",
        "    df_temp_df_noOfTweets = pd.DataFrame({'date': df_datawise.iloc[0]['date'], 'positive': ((positive/100)*len(df_datawise.index)),'neutral': ((neutral/100)*len(df_datawise.index)), 'negative': ((negative/100)*len(df_datawise.index)), 'total': len(df_datawise.index)}, index=[0])\n",
        "    # print(df_temp_df_noOfTweets)\n",
        "    # polarity /= df_temp_df_noOfTweets['total']\n",
        "    df_noOfTweets = df_noOfTweets.append(df_temp_df_noOfTweets,sort=True, ignore_index=True)\n",
        "    \n",
        "    # below df format is for polarity_line with sentiments\n",
        "    df_temp_polarity_line = pd.DataFrame({'date': df_datawise.iloc[0]['date'], 'polarity': polarity}, index=[0])\n",
        "    df_polarity_line = df_polarity_line.append(df_temp_polarity_line, sort=True, ignore_index=True)\n",
        "\n",
        "df_noOfTweets = df_noOfTweets.sort_values(by = 'date')\n",
        "df_noOfTweets.reset_index(inplace=True)\n",
        "required_tweets = ['date','positive','neutral','negative','total']\n",
        "df_noOfTweets = df_noOfTweets[required_tweets]\n",
        "\n",
        "df_polarity_line = df_polarity_line.sort_values(by = 'date')\n",
        "df_polarity_line.reset_index(inplace=True)\n",
        "required_polarity = ['date','polarity']\n",
        "df_polarity_line = df_polarity_line[required_polarity]"
      ],
      "execution_count": 21,
      "outputs": []
    },
    {
      "cell_type": "code",
      "metadata": {
        "id": "OIK9a8AcqlcW",
        "outputId": "12d54878-1edd-467e-b514-8310d0570509",
        "colab": {
          "base_uri": "https://localhost:8080/"
        }
      },
      "source": [
        "print(df_polarity_line.shape)    \n",
        "print(len(df_polarity_line)) "
      ],
      "execution_count": 22,
      "outputs": [
        {
          "output_type": "stream",
          "text": [
            "(91, 2)\n",
            "91\n"
          ],
          "name": "stdout"
        }
      ]
    },
    {
      "cell_type": "code",
      "metadata": {
        "id": "4y3CauAbrYnY",
        "outputId": "b8f04bbb-4cfe-4596-cf83-c70ff68edfd4",
        "colab": {
          "base_uri": "https://localhost:8080/"
        }
      },
      "source": [
        "prediction_days = 15\n",
        "req = ['polarity']\n",
        "df_polarity_line = df_polarity_line[req]\n",
        "df_train= df_polarity_line[:len(df_polarity_line) - prediction_days] \n",
        "df_test= df_polarity_line[len(df_polarity_line)-prediction_days:]\n",
        "\n",
        "training_set = df_train.values\n",
        "print(training_set)\n",
        "training_set = np.reshape(training_set, (len(training_set), 1))\n",
        "test_set = df_test.values\n",
        "inputs = np.reshape(test_set, (len(test_set), 1))"
      ],
      "execution_count": 23,
      "outputs": [
        {
          "output_type": "stream",
          "text": [
            "[[ 44.84127886]\n",
            " [ 34.72393849]\n",
            " [ 30.12381043]\n",
            " [ 43.90672063]\n",
            " [ 51.60989305]\n",
            " [ 49.39670815]\n",
            " [ 54.01774788]\n",
            " [ 45.23649802]\n",
            " [ 36.86736263]\n",
            " [ 43.62673601]\n",
            " [ 45.28123467]\n",
            " [ 38.1382328 ]\n",
            " [ 56.79393598]\n",
            " [ 56.14570337]\n",
            " [ 59.89907314]\n",
            " [  9.88315446]\n",
            " [ 49.61875174]\n",
            " [ 49.05703698]\n",
            " [ 49.64881631]\n",
            " [ 44.84952994]\n",
            " [ 36.79902312]\n",
            " [ 46.76261011]\n",
            " [ 37.00751834]\n",
            " [ 40.71855783]\n",
            " [ 47.90088936]\n",
            " [ 44.59732928]\n",
            " [ 50.33652718]\n",
            " [ 46.36906472]\n",
            " [ 54.04768669]\n",
            " [ 33.32747926]\n",
            " [ 47.538048  ]\n",
            " [ 53.30367176]\n",
            " [ 44.61395399]\n",
            " [ 46.99523922]\n",
            " [ 52.85774779]\n",
            " [ 49.65176776]\n",
            " [ 39.23327325]\n",
            " [ 45.06565479]\n",
            " [ 64.45839601]\n",
            " [ 64.05344494]\n",
            " [ 49.02993597]\n",
            " [ 69.14563293]\n",
            " [ 67.38291578]\n",
            " [ 40.39778633]\n",
            " [ 42.93939138]\n",
            " [ 61.87198007]\n",
            " [ 57.58585678]\n",
            " [ 61.17085683]\n",
            " [ 64.90318092]\n",
            " [ 61.83325431]\n",
            " [ 62.98058411]\n",
            " [ 41.22259751]\n",
            " [ 57.81689296]\n",
            " [ 70.14401393]\n",
            " [ 68.57515347]\n",
            " [ 65.96972327]\n",
            " [ 53.58439078]\n",
            " [ 40.44496268]\n",
            " [ 48.92850454]\n",
            " [ 62.66725361]\n",
            " [ 76.58504479]\n",
            " [ 68.94123828]\n",
            " [ 66.62065593]\n",
            " [ 80.82874254]\n",
            " [ 56.06653725]\n",
            " [ 50.97287407]\n",
            " [ 55.18723841]\n",
            " [ 66.26171889]\n",
            " [101.87834162]\n",
            " [ 68.17436293]\n",
            " [ 75.20613068]\n",
            " [ 65.0876249 ]\n",
            " [ 69.47252676]\n",
            " [ 70.9659491 ]\n",
            " [ 84.93580049]\n",
            " [ 93.59206905]]\n"
          ],
          "name": "stdout"
        }
      ]
    },
    {
      "cell_type": "code",
      "metadata": {
        "id": "ZVGZ-it30DE5"
      },
      "source": [
        "from sklearn.preprocessing import MinMaxScaler\n",
        "sc = MinMaxScaler(feature_range=(0, 1)) # changed here\n",
        "training_set = sc.fit_transform(training_set)\n",
        "inputs = sc.fit_transform(inputs)\n",
        "\n",
        "X_train = training_set[0:len(training_set)-1]\n",
        "y_train = training_set[1:len(training_set)]\n",
        "\n",
        "X_train = np.reshape(X_train, (len(X_train), 1, 1))\n",
        "inputs = np.reshape(inputs, (len(inputs), 1, 1))"
      ],
      "execution_count": 24,
      "outputs": []
    },
    {
      "cell_type": "code",
      "metadata": {
        "id": "Ax30MMVk0NJK",
        "outputId": "a9818282-2379-49f3-a8a9-66416f4c491f",
        "colab": {
          "base_uri": "https://localhost:8080/"
        }
      },
      "source": [
        "# Importing the Keras libraries and packages\n",
        "from keras.models import Sequential\n",
        "from keras.layers import Dense\n",
        "from keras.layers import LSTM\n",
        "\n",
        "# Initialising the RNN\n",
        "regressor = Sequential()\n",
        "\n",
        "# Adding the input layer and the LSTM layer (4 LSTM blocks or neurons).\n",
        "# Default sigmoid activation function is used for the LSTM blocks.\n",
        "regressor.add(LSTM(units = 4, activation = 'sigmoid', input_shape=(1, 1)))\n",
        "\n",
        "# Adding the output layer\n",
        "regressor.add(Dense(units = 1))\n",
        "\n",
        "# Compiling the RNN\n",
        "regressor.compile(optimizer = 'adam', loss = 'mean_squared_error')\n",
        "\n",
        "# Fitting the RNN to the Training set\n",
        "regressor.fit(X_train, y_train, batch_size = 5, epochs = 4)"
      ],
      "execution_count": 10,
      "outputs": [
        {
          "output_type": "stream",
          "text": [
            "Epoch 1/4\n",
            "15/15 [==============================] - 0s 1ms/step - loss: 0.8911\n",
            "Epoch 2/4\n",
            "15/15 [==============================] - 0s 1ms/step - loss: 0.8247\n",
            "Epoch 3/4\n",
            "15/15 [==============================] - 0s 1ms/step - loss: 0.7630\n",
            "Epoch 4/4\n",
            "15/15 [==============================] - 0s 1ms/step - loss: 0.7060\n"
          ],
          "name": "stdout"
        },
        {
          "output_type": "execute_result",
          "data": {
            "text/plain": [
              "<tensorflow.python.keras.callbacks.History at 0x7ff00ed8a828>"
            ]
          },
          "metadata": {
            "tags": []
          },
          "execution_count": 10
        }
      ]
    },
    {
      "cell_type": "code",
      "metadata": {
        "id": "9N6SCtHc0TuE",
        "outputId": "7c829aef-5f89-46d2-bd9c-8328f78a553d",
        "colab": {
          "base_uri": "https://localhost:8080/"
        }
      },
      "source": [
        "predicted_polarity = regressor.predict(inputs)\n",
        "predicted_polarity = sc.inverse_transform(predicted_polarity)\n",
        "dataframe = pd.DataFrame.from_records(predicted_polarity)\n",
        "print(dataframe)\n",
        "dataframe.columns = ['Predicted_Polarity']"
      ],
      "execution_count": 25,
      "outputs": [
        {
          "output_type": "stream",
          "text": [
            "            0\n",
            "0   28.135138\n",
            "1   28.331886\n",
            "2   26.263968\n",
            "3   26.497793\n",
            "4   24.950741\n",
            "5   27.413074\n",
            "6   29.591003\n",
            "7   27.260651\n",
            "8   27.520458\n",
            "9   26.123434\n",
            "10  28.759674\n",
            "11  32.157257\n",
            "12  31.257305\n",
            "13  35.698135\n",
            "14  30.505526\n",
            "            0\n",
            "0   28.135138\n",
            "1   28.331886\n",
            "2   26.263968\n",
            "3   26.497793\n",
            "4   24.950741\n",
            "5   27.413074\n",
            "6   29.591003\n",
            "7   27.260651\n",
            "8   27.520458\n",
            "9   26.123434\n",
            "10  28.759674\n",
            "11  32.157257\n",
            "12  31.257305\n",
            "13  35.698135\n",
            "14  30.505526\n"
          ],
          "name": "stdout"
        }
      ]
    },
    {
      "cell_type": "code",
      "metadata": {
        "id": "UTIATVgG1DNT",
        "outputId": "28041e70-541c-4f3a-d19b-fc2fd136fa79",
        "colab": {
          "base_uri": "https://localhost:8080/"
        }
      },
      "source": [
        "data = pd.read_csv(bitcoin_file)\n",
        "req_features = ['Timestamp','Close']\n",
        "df_bitcoin = pd.DataFrame(columns=['date','close'])\n",
        "frequency=0\n",
        "sum=0\n",
        "cur_date=\"\"\n",
        "for index in data.index:\n",
        "  date = data['Timestamp'][index]\n",
        "  date = date.split(' ')[0]\n",
        "  value = float(data['Close'][index])\n",
        "  if date != cur_date:\n",
        "    if cur_date != \"\":\n",
        "      sum = sum/frequency\n",
        "      temp = pd.DataFrame({\"date\":[cur_date], \"close\":[sum]}) \n",
        "      df_bitcoin = df_bitcoin.append(temp, ignore_index = True)\n",
        "    cur_date = date\n",
        "    frequency = 1\n",
        "    sum = value\n",
        "  else:\n",
        "    sum += value\n",
        "    frequency += 1  \n",
        "sum = sum/frequency\n",
        "temp = pd.DataFrame({\"date\":[cur_date], \"close\":[sum]}) \n",
        "df_bitcoin = df_bitcoin.append(temp, ignore_index = True)\n",
        "print(df_bitcoin)"
      ],
      "execution_count": 26,
      "outputs": [
        {
          "output_type": "stream",
          "text": [
            "           date         close\n",
            "0    2017-01-01    972.979660\n",
            "1    2017-01-02   1009.515215\n",
            "2    2017-01-03   1016.678812\n",
            "3    2017-01-04   1061.083632\n",
            "4    2017-01-05   1087.840451\n",
            "..          ...           ...\n",
            "360  2017-12-27  15823.691576\n",
            "361  2017-12-28  14551.233222\n",
            "362  2017-12-29  14428.807889\n",
            "363  2017-12-30  13898.596042\n",
            "364  2017-12-31  13197.474549\n",
            "\n",
            "[365 rows x 2 columns]\n",
            "           date         close\n",
            "0    2017-01-01    972.979660\n",
            "1    2017-01-02   1009.515215\n",
            "2    2017-01-03   1016.678812\n",
            "3    2017-01-04   1061.083632\n",
            "4    2017-01-05   1087.840451\n",
            "..          ...           ...\n",
            "360  2017-12-27  15823.691576\n",
            "361  2017-12-28  14551.233222\n",
            "362  2017-12-29  14428.807889\n",
            "363  2017-12-30  13898.596042\n",
            "364  2017-12-31  13197.474549\n",
            "\n",
            "[365 rows x 2 columns]\n"
          ],
          "name": "stdout"
        }
      ]
    },
    {
      "cell_type": "code",
      "metadata": {
        "id": "PGO_Lsbv6tte",
        "outputId": "3226d0f2-d1bd-47f4-c13d-dd3ff93bfb58",
        "colab": {
          "base_uri": "https://localhost:8080/"
        }
      },
      "source": [
        "df_bitcoin1 = df_bitcoin[len(df_bitcoin)-46:]\n",
        "df_bitcoin2 = df_bitcoin1[:15]\n",
        "\n",
        "df_bitcoin2.reset_index(inplace=True)\n",
        "# print(df_bitcoin2)\n",
        "req = ['date','close']\n",
        "df_bitcoin3 = df_bitcoin2[req]\n",
        "# print(df_bitcoin3)\n",
        "# print(dataframe)\n",
        "dataframe1 = pd.concat([df_bitcoin3, dataframe.reindex(df_bitcoin3.index)], axis=1)\n",
        "print(dataframe1)"
      ],
      "execution_count": 30,
      "outputs": [
        {
          "output_type": "stream",
          "text": [
            "          date         close  Predicted_Polarity\n",
            "0   2017-11-16   7334.280826           28.135138\n",
            "1   2017-11-17   7844.846618           28.331886\n",
            "2   2017-11-18   7708.000882           26.263968\n",
            "3   2017-11-19   7783.521396           26.497793\n",
            "4   2017-11-20   8077.297201           24.950741\n",
            "5   2017-11-21   8202.975861           27.413074\n",
            "6   2017-11-22   8201.752792           29.591003\n",
            "7   2017-11-23   8202.604819           27.260651\n",
            "8   2017-11-24   8164.645583           27.520458\n",
            "9   2017-11-25   8390.028278           26.123434\n",
            "10  2017-11-26   8988.064681           28.759674\n",
            "11  2017-11-27   9619.731590           32.157257\n",
            "12  2017-11-28   9822.075715           31.257305\n",
            "13  2017-11-29  10484.614472           35.698135\n",
            "14  2017-11-30  10047.583646           30.505526\n"
          ],
          "name": "stdout"
        }
      ]
    },
    {
      "cell_type": "code",
      "metadata": {
        "id": "zajqY8Jz-X_C",
        "outputId": "2cab5092-59a5-4ada-b3d0-d878d565861b",
        "colab": {
          "base_uri": "https://localhost:8080/",
          "height": 1000
        }
      },
      "source": [
        "import plotly.graph_objs as go\n",
        "from plotly.offline import *\n",
        "import plotly\n",
        "\n",
        "trace1 = go.Scatter(\n",
        "    x=dataframe1['date'],\n",
        "    y=dataframe1['Predicted_Polarity'],\n",
        "    mode = 'lines',\n",
        "    name='Predicted polarity'\n",
        ")\n",
        "\n",
        "#total number of tweets in dataset\n",
        "# print(df_noOfTweets['total'].sum())\n",
        "\n",
        "trace2 = go.Scatter(\n",
        "    x=dataframe1['date'],\n",
        "    y=dataframe1['close'],\n",
        "    mode = 'lines',\n",
        "    name='Bitcoin price',\n",
        "    yaxis='y2'\n",
        ")\n",
        "data = [trace1, trace2]\n",
        "layout = go.Layout(\n",
        "    title='Sentiment Polarity Vs. Closing Price (in USD)',\n",
        "    yaxis=dict(\n",
        "        title='Predicted polarity'\n",
        "    ),\n",
        "    yaxis2=dict(\n",
        "        title='Closing Price',\n",
        "        titlefont=dict(\n",
        "            color='rgb(148, 103, 189)'\n",
        "        ),\n",
        "        tickfont=dict(\n",
        "            color='rgb(148, 103, 189)'\n",
        "        ),\n",
        "        overlaying='y',\n",
        "        side='right'\n",
        "    )\n",
        ")\n",
        "fig = go.Figure(data=data, layout=layout)\n",
        "plotly.offline.iplot(fig, filename='No_Of_Tweets.html') # Plot No. of Tweets\n"
      ],
      "execution_count": 29,
      "outputs": [
        {
          "output_type": "display_data",
          "data": {
            "text/html": [
              "<html>\n",
              "<head><meta charset=\"utf-8\" /></head>\n",
              "<body>\n",
              "    <div>\n",
              "            <script src=\"https://cdnjs.cloudflare.com/ajax/libs/mathjax/2.7.5/MathJax.js?config=TeX-AMS-MML_SVG\"></script><script type=\"text/javascript\">if (window.MathJax) {MathJax.Hub.Config({SVG: {font: \"STIX-Web\"}});}</script>\n",
              "                <script type=\"text/javascript\">window.PlotlyConfig = {MathJaxConfig: 'local'};</script>\n",
              "        <script src=\"https://cdn.plot.ly/plotly-latest.min.js\"></script>    \n",
              "            <div id=\"752b9f35-c10f-4461-80d2-6cc79ec282cc\" class=\"plotly-graph-div\" style=\"height:525px; width:100%;\"></div>\n",
              "            <script type=\"text/javascript\">\n",
              "                \n",
              "                    window.PLOTLYENV=window.PLOTLYENV || {};\n",
              "                    \n",
              "                if (document.getElementById(\"752b9f35-c10f-4461-80d2-6cc79ec282cc\")) {\n",
              "                    Plotly.newPlot(\n",
              "                        '752b9f35-c10f-4461-80d2-6cc79ec282cc',\n",
              "                        [{\"mode\": \"lines\", \"name\": \"Predicted polarity\", \"type\": \"scatter\", \"x\": [\"2017-11-16\", \"2017-11-17\", \"2017-11-18\", \"2017-11-19\", \"2017-11-20\", \"2017-11-21\", \"2017-11-22\", \"2017-11-23\", \"2017-11-24\", \"2017-11-25\", \"2017-11-26\", \"2017-11-27\", \"2017-11-28\", \"2017-11-29\", \"2017-11-30\"], \"y\": [28.1351375579834, 28.331886291503906, 26.263967514038086, 26.497793197631836, 24.950740814208984, 27.413074493408203, 29.59100341796875, 27.260650634765625, 27.520458221435547, 26.12343406677246, 28.759674072265625, 32.157257080078125, 31.257305145263672, 35.69813537597656, 30.505525588989258]}, {\"mode\": \"lines\", \"name\": \"Bitcoin price\", \"type\": \"scatter\", \"x\": [\"2017-11-16\", \"2017-11-17\", \"2017-11-18\", \"2017-11-19\", \"2017-11-20\", \"2017-11-21\", \"2017-11-22\", \"2017-11-23\", \"2017-11-24\", \"2017-11-25\", \"2017-11-26\", \"2017-11-27\", \"2017-11-28\", \"2017-11-29\", \"2017-11-30\"], \"y\": [7334.2808263888855, 7844.846618055547, 7708.000881944431, 7783.521395833332, 8077.297201388901, 8202.975861111121, 8201.752791666666, 8202.604819444397, 8164.645583333309, 8390.028277777792, 8988.064680555543, 9619.731590277785, 9822.075715277784, 10484.614472222234, 10047.583645833345], \"yaxis\": \"y2\"}],\n",
              "                        {\"template\": {\"data\": {\"bar\": [{\"error_x\": {\"color\": \"#2a3f5f\"}, \"error_y\": {\"color\": \"#2a3f5f\"}, \"marker\": {\"line\": {\"color\": \"#E5ECF6\", \"width\": 0.5}}, \"type\": \"bar\"}], \"barpolar\": [{\"marker\": {\"line\": {\"color\": \"#E5ECF6\", \"width\": 0.5}}, \"type\": \"barpolar\"}], \"carpet\": [{\"aaxis\": {\"endlinecolor\": \"#2a3f5f\", \"gridcolor\": \"white\", \"linecolor\": \"white\", \"minorgridcolor\": \"white\", \"startlinecolor\": \"#2a3f5f\"}, \"baxis\": {\"endlinecolor\": \"#2a3f5f\", \"gridcolor\": \"white\", \"linecolor\": \"white\", \"minorgridcolor\": \"white\", \"startlinecolor\": \"#2a3f5f\"}, \"type\": \"carpet\"}], \"choropleth\": [{\"colorbar\": {\"outlinewidth\": 0, \"ticks\": \"\"}, \"type\": \"choropleth\"}], \"contour\": [{\"colorbar\": {\"outlinewidth\": 0, \"ticks\": \"\"}, \"colorscale\": [[0.0, \"#0d0887\"], [0.1111111111111111, \"#46039f\"], [0.2222222222222222, \"#7201a8\"], [0.3333333333333333, \"#9c179e\"], [0.4444444444444444, \"#bd3786\"], [0.5555555555555556, \"#d8576b\"], [0.6666666666666666, \"#ed7953\"], [0.7777777777777778, \"#fb9f3a\"], [0.8888888888888888, \"#fdca26\"], [1.0, \"#f0f921\"]], \"type\": \"contour\"}], \"contourcarpet\": [{\"colorbar\": {\"outlinewidth\": 0, \"ticks\": \"\"}, \"type\": \"contourcarpet\"}], \"heatmap\": [{\"colorbar\": {\"outlinewidth\": 0, \"ticks\": \"\"}, \"colorscale\": [[0.0, \"#0d0887\"], [0.1111111111111111, \"#46039f\"], [0.2222222222222222, \"#7201a8\"], [0.3333333333333333, \"#9c179e\"], [0.4444444444444444, \"#bd3786\"], [0.5555555555555556, \"#d8576b\"], [0.6666666666666666, \"#ed7953\"], [0.7777777777777778, \"#fb9f3a\"], [0.8888888888888888, \"#fdca26\"], [1.0, \"#f0f921\"]], \"type\": \"heatmap\"}], \"heatmapgl\": [{\"colorbar\": {\"outlinewidth\": 0, \"ticks\": \"\"}, \"colorscale\": [[0.0, \"#0d0887\"], [0.1111111111111111, \"#46039f\"], [0.2222222222222222, \"#7201a8\"], [0.3333333333333333, \"#9c179e\"], [0.4444444444444444, \"#bd3786\"], [0.5555555555555556, \"#d8576b\"], [0.6666666666666666, \"#ed7953\"], [0.7777777777777778, \"#fb9f3a\"], [0.8888888888888888, \"#fdca26\"], [1.0, \"#f0f921\"]], \"type\": \"heatmapgl\"}], \"histogram\": [{\"marker\": {\"colorbar\": {\"outlinewidth\": 0, \"ticks\": \"\"}}, \"type\": \"histogram\"}], \"histogram2d\": [{\"colorbar\": {\"outlinewidth\": 0, \"ticks\": \"\"}, \"colorscale\": [[0.0, \"#0d0887\"], [0.1111111111111111, \"#46039f\"], [0.2222222222222222, \"#7201a8\"], [0.3333333333333333, \"#9c179e\"], [0.4444444444444444, \"#bd3786\"], [0.5555555555555556, \"#d8576b\"], [0.6666666666666666, \"#ed7953\"], [0.7777777777777778, \"#fb9f3a\"], [0.8888888888888888, \"#fdca26\"], [1.0, \"#f0f921\"]], \"type\": \"histogram2d\"}], \"histogram2dcontour\": [{\"colorbar\": {\"outlinewidth\": 0, \"ticks\": \"\"}, \"colorscale\": [[0.0, \"#0d0887\"], [0.1111111111111111, \"#46039f\"], [0.2222222222222222, \"#7201a8\"], [0.3333333333333333, \"#9c179e\"], [0.4444444444444444, \"#bd3786\"], [0.5555555555555556, \"#d8576b\"], [0.6666666666666666, \"#ed7953\"], [0.7777777777777778, \"#fb9f3a\"], [0.8888888888888888, \"#fdca26\"], [1.0, \"#f0f921\"]], \"type\": \"histogram2dcontour\"}], \"mesh3d\": [{\"colorbar\": {\"outlinewidth\": 0, \"ticks\": \"\"}, \"type\": \"mesh3d\"}], \"parcoords\": [{\"line\": {\"colorbar\": {\"outlinewidth\": 0, \"ticks\": \"\"}}, \"type\": \"parcoords\"}], \"pie\": [{\"automargin\": true, \"type\": \"pie\"}], \"scatter\": [{\"marker\": {\"colorbar\": {\"outlinewidth\": 0, \"ticks\": \"\"}}, \"type\": \"scatter\"}], \"scatter3d\": [{\"line\": {\"colorbar\": {\"outlinewidth\": 0, \"ticks\": \"\"}}, \"marker\": {\"colorbar\": {\"outlinewidth\": 0, \"ticks\": \"\"}}, \"type\": \"scatter3d\"}], \"scattercarpet\": [{\"marker\": {\"colorbar\": {\"outlinewidth\": 0, \"ticks\": \"\"}}, \"type\": \"scattercarpet\"}], \"scattergeo\": [{\"marker\": {\"colorbar\": {\"outlinewidth\": 0, \"ticks\": \"\"}}, \"type\": \"scattergeo\"}], \"scattergl\": [{\"marker\": {\"colorbar\": {\"outlinewidth\": 0, \"ticks\": \"\"}}, \"type\": \"scattergl\"}], \"scattermapbox\": [{\"marker\": {\"colorbar\": {\"outlinewidth\": 0, \"ticks\": \"\"}}, \"type\": \"scattermapbox\"}], \"scatterpolar\": [{\"marker\": {\"colorbar\": {\"outlinewidth\": 0, \"ticks\": \"\"}}, \"type\": \"scatterpolar\"}], \"scatterpolargl\": [{\"marker\": {\"colorbar\": {\"outlinewidth\": 0, \"ticks\": \"\"}}, \"type\": \"scatterpolargl\"}], \"scatterternary\": [{\"marker\": {\"colorbar\": {\"outlinewidth\": 0, \"ticks\": \"\"}}, \"type\": \"scatterternary\"}], \"surface\": [{\"colorbar\": {\"outlinewidth\": 0, \"ticks\": \"\"}, \"colorscale\": [[0.0, \"#0d0887\"], [0.1111111111111111, \"#46039f\"], [0.2222222222222222, \"#7201a8\"], [0.3333333333333333, \"#9c179e\"], [0.4444444444444444, \"#bd3786\"], [0.5555555555555556, \"#d8576b\"], [0.6666666666666666, \"#ed7953\"], [0.7777777777777778, \"#fb9f3a\"], [0.8888888888888888, \"#fdca26\"], [1.0, \"#f0f921\"]], \"type\": \"surface\"}], \"table\": [{\"cells\": {\"fill\": {\"color\": \"#EBF0F8\"}, \"line\": {\"color\": \"white\"}}, \"header\": {\"fill\": {\"color\": \"#C8D4E3\"}, \"line\": {\"color\": \"white\"}}, \"type\": \"table\"}]}, \"layout\": {\"annotationdefaults\": {\"arrowcolor\": \"#2a3f5f\", \"arrowhead\": 0, \"arrowwidth\": 1}, \"coloraxis\": {\"colorbar\": {\"outlinewidth\": 0, \"ticks\": \"\"}}, \"colorscale\": {\"diverging\": [[0, \"#8e0152\"], [0.1, \"#c51b7d\"], [0.2, \"#de77ae\"], [0.3, \"#f1b6da\"], [0.4, \"#fde0ef\"], [0.5, \"#f7f7f7\"], [0.6, \"#e6f5d0\"], [0.7, \"#b8e186\"], [0.8, \"#7fbc41\"], [0.9, \"#4d9221\"], [1, \"#276419\"]], \"sequential\": [[0.0, \"#0d0887\"], [0.1111111111111111, \"#46039f\"], [0.2222222222222222, \"#7201a8\"], [0.3333333333333333, \"#9c179e\"], [0.4444444444444444, \"#bd3786\"], [0.5555555555555556, \"#d8576b\"], [0.6666666666666666, \"#ed7953\"], [0.7777777777777778, \"#fb9f3a\"], [0.8888888888888888, \"#fdca26\"], [1.0, \"#f0f921\"]], \"sequentialminus\": [[0.0, \"#0d0887\"], [0.1111111111111111, \"#46039f\"], [0.2222222222222222, \"#7201a8\"], [0.3333333333333333, \"#9c179e\"], [0.4444444444444444, \"#bd3786\"], [0.5555555555555556, \"#d8576b\"], [0.6666666666666666, \"#ed7953\"], [0.7777777777777778, \"#fb9f3a\"], [0.8888888888888888, \"#fdca26\"], [1.0, \"#f0f921\"]]}, \"colorway\": [\"#636efa\", \"#EF553B\", \"#00cc96\", \"#ab63fa\", \"#FFA15A\", \"#19d3f3\", \"#FF6692\", \"#B6E880\", \"#FF97FF\", \"#FECB52\"], \"font\": {\"color\": \"#2a3f5f\"}, \"geo\": {\"bgcolor\": \"white\", \"lakecolor\": \"white\", \"landcolor\": \"#E5ECF6\", \"showlakes\": true, \"showland\": true, \"subunitcolor\": \"white\"}, \"hoverlabel\": {\"align\": \"left\"}, \"hovermode\": \"closest\", \"mapbox\": {\"style\": \"light\"}, \"paper_bgcolor\": \"white\", \"plot_bgcolor\": \"#E5ECF6\", \"polar\": {\"angularaxis\": {\"gridcolor\": \"white\", \"linecolor\": \"white\", \"ticks\": \"\"}, \"bgcolor\": \"#E5ECF6\", \"radialaxis\": {\"gridcolor\": \"white\", \"linecolor\": \"white\", \"ticks\": \"\"}}, \"scene\": {\"xaxis\": {\"backgroundcolor\": \"#E5ECF6\", \"gridcolor\": \"white\", \"gridwidth\": 2, \"linecolor\": \"white\", \"showbackground\": true, \"ticks\": \"\", \"zerolinecolor\": \"white\"}, \"yaxis\": {\"backgroundcolor\": \"#E5ECF6\", \"gridcolor\": \"white\", \"gridwidth\": 2, \"linecolor\": \"white\", \"showbackground\": true, \"ticks\": \"\", \"zerolinecolor\": \"white\"}, \"zaxis\": {\"backgroundcolor\": \"#E5ECF6\", \"gridcolor\": \"white\", \"gridwidth\": 2, \"linecolor\": \"white\", \"showbackground\": true, \"ticks\": \"\", \"zerolinecolor\": \"white\"}}, \"shapedefaults\": {\"line\": {\"color\": \"#2a3f5f\"}}, \"ternary\": {\"aaxis\": {\"gridcolor\": \"white\", \"linecolor\": \"white\", \"ticks\": \"\"}, \"baxis\": {\"gridcolor\": \"white\", \"linecolor\": \"white\", \"ticks\": \"\"}, \"bgcolor\": \"#E5ECF6\", \"caxis\": {\"gridcolor\": \"white\", \"linecolor\": \"white\", \"ticks\": \"\"}}, \"title\": {\"x\": 0.05}, \"xaxis\": {\"automargin\": true, \"gridcolor\": \"white\", \"linecolor\": \"white\", \"ticks\": \"\", \"title\": {\"standoff\": 15}, \"zerolinecolor\": \"white\", \"zerolinewidth\": 2}, \"yaxis\": {\"automargin\": true, \"gridcolor\": \"white\", \"linecolor\": \"white\", \"ticks\": \"\", \"title\": {\"standoff\": 15}, \"zerolinecolor\": \"white\", \"zerolinewidth\": 2}}}, \"title\": {\"text\": \"Sentiment Polarity Vs. Closing Price (in USD)\"}, \"yaxis\": {\"title\": {\"text\": \"Closing Price.\"}}, \"yaxis2\": {\"overlaying\": \"y\", \"side\": \"right\", \"tickfont\": {\"color\": \"rgb(148, 103, 189)\"}, \"title\": {\"font\": {\"color\": \"rgb(148, 103, 189)\"}, \"text\": \"Polarity\"}}},\n",
              "                        {\"responsive\": true}\n",
              "                    ).then(function(){\n",
              "                            \n",
              "var gd = document.getElementById('752b9f35-c10f-4461-80d2-6cc79ec282cc');\n",
              "var x = new MutationObserver(function (mutations, observer) {{\n",
              "        var display = window.getComputedStyle(gd).display;\n",
              "        if (!display || display === 'none') {{\n",
              "            console.log([gd, 'removed!']);\n",
              "            Plotly.purge(gd);\n",
              "            observer.disconnect();\n",
              "        }}\n",
              "}});\n",
              "\n",
              "// Listen for the removal of the full notebook cells\n",
              "var notebookContainer = gd.closest('#notebook-container');\n",
              "if (notebookContainer) {{\n",
              "    x.observe(notebookContainer, {childList: true});\n",
              "}}\n",
              "\n",
              "// Listen for the clearing of the current output cell\n",
              "var outputEl = gd.closest('.output');\n",
              "if (outputEl) {{\n",
              "    x.observe(outputEl, {childList: true});\n",
              "}}\n",
              "\n",
              "                        })\n",
              "                };\n",
              "                \n",
              "            </script>\n",
              "        </div>\n",
              "</body>\n",
              "</html>"
            ]
          },
          "metadata": {
            "tags": []
          }
        },
        {
          "output_type": "display_data",
          "data": {
            "text/html": [
              "<html>\n",
              "<head><meta charset=\"utf-8\" /></head>\n",
              "<body>\n",
              "    <div>\n",
              "            <script src=\"https://cdnjs.cloudflare.com/ajax/libs/mathjax/2.7.5/MathJax.js?config=TeX-AMS-MML_SVG\"></script><script type=\"text/javascript\">if (window.MathJax) {MathJax.Hub.Config({SVG: {font: \"STIX-Web\"}});}</script>\n",
              "                <script type=\"text/javascript\">window.PlotlyConfig = {MathJaxConfig: 'local'};</script>\n",
              "        <script src=\"https://cdn.plot.ly/plotly-latest.min.js\"></script>    \n",
              "            <div id=\"dc43ba17-ba9e-4eaa-95cc-312de00633a5\" class=\"plotly-graph-div\" style=\"height:525px; width:100%;\"></div>\n",
              "            <script type=\"text/javascript\">\n",
              "                \n",
              "                    window.PLOTLYENV=window.PLOTLYENV || {};\n",
              "                    \n",
              "                if (document.getElementById(\"dc43ba17-ba9e-4eaa-95cc-312de00633a5\")) {\n",
              "                    Plotly.newPlot(\n",
              "                        'dc43ba17-ba9e-4eaa-95cc-312de00633a5',\n",
              "                        [{\"mode\": \"lines\", \"name\": \"Predicted polarity\", \"type\": \"scatter\", \"x\": [\"2017-11-16\", \"2017-11-17\", \"2017-11-18\", \"2017-11-19\", \"2017-11-20\", \"2017-11-21\", \"2017-11-22\", \"2017-11-23\", \"2017-11-24\", \"2017-11-25\", \"2017-11-26\", \"2017-11-27\", \"2017-11-28\", \"2017-11-29\", \"2017-11-30\"], \"y\": [28.1351375579834, 28.331886291503906, 26.263967514038086, 26.497793197631836, 24.950740814208984, 27.413074493408203, 29.59100341796875, 27.260650634765625, 27.520458221435547, 26.12343406677246, 28.759674072265625, 32.157257080078125, 31.257305145263672, 35.69813537597656, 30.505525588989258]}, {\"mode\": \"lines\", \"name\": \"Bitcoin price\", \"type\": \"scatter\", \"x\": [\"2017-11-16\", \"2017-11-17\", \"2017-11-18\", \"2017-11-19\", \"2017-11-20\", \"2017-11-21\", \"2017-11-22\", \"2017-11-23\", \"2017-11-24\", \"2017-11-25\", \"2017-11-26\", \"2017-11-27\", \"2017-11-28\", \"2017-11-29\", \"2017-11-30\"], \"y\": [7334.2808263888855, 7844.846618055547, 7708.000881944431, 7783.521395833332, 8077.297201388901, 8202.975861111121, 8201.752791666666, 8202.604819444397, 8164.645583333309, 8390.028277777792, 8988.064680555543, 9619.731590277785, 9822.075715277784, 10484.614472222234, 10047.583645833345], \"yaxis\": \"y2\"}],\n",
              "                        {\"template\": {\"data\": {\"bar\": [{\"error_x\": {\"color\": \"#2a3f5f\"}, \"error_y\": {\"color\": \"#2a3f5f\"}, \"marker\": {\"line\": {\"color\": \"#E5ECF6\", \"width\": 0.5}}, \"type\": \"bar\"}], \"barpolar\": [{\"marker\": {\"line\": {\"color\": \"#E5ECF6\", \"width\": 0.5}}, \"type\": \"barpolar\"}], \"carpet\": [{\"aaxis\": {\"endlinecolor\": \"#2a3f5f\", \"gridcolor\": \"white\", \"linecolor\": \"white\", \"minorgridcolor\": \"white\", \"startlinecolor\": \"#2a3f5f\"}, \"baxis\": {\"endlinecolor\": \"#2a3f5f\", \"gridcolor\": \"white\", \"linecolor\": \"white\", \"minorgridcolor\": \"white\", \"startlinecolor\": \"#2a3f5f\"}, \"type\": \"carpet\"}], \"choropleth\": [{\"colorbar\": {\"outlinewidth\": 0, \"ticks\": \"\"}, \"type\": \"choropleth\"}], \"contour\": [{\"colorbar\": {\"outlinewidth\": 0, \"ticks\": \"\"}, \"colorscale\": [[0.0, \"#0d0887\"], [0.1111111111111111, \"#46039f\"], [0.2222222222222222, \"#7201a8\"], [0.3333333333333333, \"#9c179e\"], [0.4444444444444444, \"#bd3786\"], [0.5555555555555556, \"#d8576b\"], [0.6666666666666666, \"#ed7953\"], [0.7777777777777778, \"#fb9f3a\"], [0.8888888888888888, \"#fdca26\"], [1.0, \"#f0f921\"]], \"type\": \"contour\"}], \"contourcarpet\": [{\"colorbar\": {\"outlinewidth\": 0, \"ticks\": \"\"}, \"type\": \"contourcarpet\"}], \"heatmap\": [{\"colorbar\": {\"outlinewidth\": 0, \"ticks\": \"\"}, \"colorscale\": [[0.0, \"#0d0887\"], [0.1111111111111111, \"#46039f\"], [0.2222222222222222, \"#7201a8\"], [0.3333333333333333, \"#9c179e\"], [0.4444444444444444, \"#bd3786\"], [0.5555555555555556, \"#d8576b\"], [0.6666666666666666, \"#ed7953\"], [0.7777777777777778, \"#fb9f3a\"], [0.8888888888888888, \"#fdca26\"], [1.0, \"#f0f921\"]], \"type\": \"heatmap\"}], \"heatmapgl\": [{\"colorbar\": {\"outlinewidth\": 0, \"ticks\": \"\"}, \"colorscale\": [[0.0, \"#0d0887\"], [0.1111111111111111, \"#46039f\"], [0.2222222222222222, \"#7201a8\"], [0.3333333333333333, \"#9c179e\"], [0.4444444444444444, \"#bd3786\"], [0.5555555555555556, \"#d8576b\"], [0.6666666666666666, \"#ed7953\"], [0.7777777777777778, \"#fb9f3a\"], [0.8888888888888888, \"#fdca26\"], [1.0, \"#f0f921\"]], \"type\": \"heatmapgl\"}], \"histogram\": [{\"marker\": {\"colorbar\": {\"outlinewidth\": 0, \"ticks\": \"\"}}, \"type\": \"histogram\"}], \"histogram2d\": [{\"colorbar\": {\"outlinewidth\": 0, \"ticks\": \"\"}, \"colorscale\": [[0.0, \"#0d0887\"], [0.1111111111111111, \"#46039f\"], [0.2222222222222222, \"#7201a8\"], [0.3333333333333333, \"#9c179e\"], [0.4444444444444444, \"#bd3786\"], [0.5555555555555556, \"#d8576b\"], [0.6666666666666666, \"#ed7953\"], [0.7777777777777778, \"#fb9f3a\"], [0.8888888888888888, \"#fdca26\"], [1.0, \"#f0f921\"]], \"type\": \"histogram2d\"}], \"histogram2dcontour\": [{\"colorbar\": {\"outlinewidth\": 0, \"ticks\": \"\"}, \"colorscale\": [[0.0, \"#0d0887\"], [0.1111111111111111, \"#46039f\"], [0.2222222222222222, \"#7201a8\"], [0.3333333333333333, \"#9c179e\"], [0.4444444444444444, \"#bd3786\"], [0.5555555555555556, \"#d8576b\"], [0.6666666666666666, \"#ed7953\"], [0.7777777777777778, \"#fb9f3a\"], [0.8888888888888888, \"#fdca26\"], [1.0, \"#f0f921\"]], \"type\": \"histogram2dcontour\"}], \"mesh3d\": [{\"colorbar\": {\"outlinewidth\": 0, \"ticks\": \"\"}, \"type\": \"mesh3d\"}], \"parcoords\": [{\"line\": {\"colorbar\": {\"outlinewidth\": 0, \"ticks\": \"\"}}, \"type\": \"parcoords\"}], \"pie\": [{\"automargin\": true, \"type\": \"pie\"}], \"scatter\": [{\"marker\": {\"colorbar\": {\"outlinewidth\": 0, \"ticks\": \"\"}}, \"type\": \"scatter\"}], \"scatter3d\": [{\"line\": {\"colorbar\": {\"outlinewidth\": 0, \"ticks\": \"\"}}, \"marker\": {\"colorbar\": {\"outlinewidth\": 0, \"ticks\": \"\"}}, \"type\": \"scatter3d\"}], \"scattercarpet\": [{\"marker\": {\"colorbar\": {\"outlinewidth\": 0, \"ticks\": \"\"}}, \"type\": \"scattercarpet\"}], \"scattergeo\": [{\"marker\": {\"colorbar\": {\"outlinewidth\": 0, \"ticks\": \"\"}}, \"type\": \"scattergeo\"}], \"scattergl\": [{\"marker\": {\"colorbar\": {\"outlinewidth\": 0, \"ticks\": \"\"}}, \"type\": \"scattergl\"}], \"scattermapbox\": [{\"marker\": {\"colorbar\": {\"outlinewidth\": 0, \"ticks\": \"\"}}, \"type\": \"scattermapbox\"}], \"scatterpolar\": [{\"marker\": {\"colorbar\": {\"outlinewidth\": 0, \"ticks\": \"\"}}, \"type\": \"scatterpolar\"}], \"scatterpolargl\": [{\"marker\": {\"colorbar\": {\"outlinewidth\": 0, \"ticks\": \"\"}}, \"type\": \"scatterpolargl\"}], \"scatterternary\": [{\"marker\": {\"colorbar\": {\"outlinewidth\": 0, \"ticks\": \"\"}}, \"type\": \"scatterternary\"}], \"surface\": [{\"colorbar\": {\"outlinewidth\": 0, \"ticks\": \"\"}, \"colorscale\": [[0.0, \"#0d0887\"], [0.1111111111111111, \"#46039f\"], [0.2222222222222222, \"#7201a8\"], [0.3333333333333333, \"#9c179e\"], [0.4444444444444444, \"#bd3786\"], [0.5555555555555556, \"#d8576b\"], [0.6666666666666666, \"#ed7953\"], [0.7777777777777778, \"#fb9f3a\"], [0.8888888888888888, \"#fdca26\"], [1.0, \"#f0f921\"]], \"type\": \"surface\"}], \"table\": [{\"cells\": {\"fill\": {\"color\": \"#EBF0F8\"}, \"line\": {\"color\": \"white\"}}, \"header\": {\"fill\": {\"color\": \"#C8D4E3\"}, \"line\": {\"color\": \"white\"}}, \"type\": \"table\"}]}, \"layout\": {\"annotationdefaults\": {\"arrowcolor\": \"#2a3f5f\", \"arrowhead\": 0, \"arrowwidth\": 1}, \"coloraxis\": {\"colorbar\": {\"outlinewidth\": 0, \"ticks\": \"\"}}, \"colorscale\": {\"diverging\": [[0, \"#8e0152\"], [0.1, \"#c51b7d\"], [0.2, \"#de77ae\"], [0.3, \"#f1b6da\"], [0.4, \"#fde0ef\"], [0.5, \"#f7f7f7\"], [0.6, \"#e6f5d0\"], [0.7, \"#b8e186\"], [0.8, \"#7fbc41\"], [0.9, \"#4d9221\"], [1, \"#276419\"]], \"sequential\": [[0.0, \"#0d0887\"], [0.1111111111111111, \"#46039f\"], [0.2222222222222222, \"#7201a8\"], [0.3333333333333333, \"#9c179e\"], [0.4444444444444444, \"#bd3786\"], [0.5555555555555556, \"#d8576b\"], [0.6666666666666666, \"#ed7953\"], [0.7777777777777778, \"#fb9f3a\"], [0.8888888888888888, \"#fdca26\"], [1.0, \"#f0f921\"]], \"sequentialminus\": [[0.0, \"#0d0887\"], [0.1111111111111111, \"#46039f\"], [0.2222222222222222, \"#7201a8\"], [0.3333333333333333, \"#9c179e\"], [0.4444444444444444, \"#bd3786\"], [0.5555555555555556, \"#d8576b\"], [0.6666666666666666, \"#ed7953\"], [0.7777777777777778, \"#fb9f3a\"], [0.8888888888888888, \"#fdca26\"], [1.0, \"#f0f921\"]]}, \"colorway\": [\"#636efa\", \"#EF553B\", \"#00cc96\", \"#ab63fa\", \"#FFA15A\", \"#19d3f3\", \"#FF6692\", \"#B6E880\", \"#FF97FF\", \"#FECB52\"], \"font\": {\"color\": \"#2a3f5f\"}, \"geo\": {\"bgcolor\": \"white\", \"lakecolor\": \"white\", \"landcolor\": \"#E5ECF6\", \"showlakes\": true, \"showland\": true, \"subunitcolor\": \"white\"}, \"hoverlabel\": {\"align\": \"left\"}, \"hovermode\": \"closest\", \"mapbox\": {\"style\": \"light\"}, \"paper_bgcolor\": \"white\", \"plot_bgcolor\": \"#E5ECF6\", \"polar\": {\"angularaxis\": {\"gridcolor\": \"white\", \"linecolor\": \"white\", \"ticks\": \"\"}, \"bgcolor\": \"#E5ECF6\", \"radialaxis\": {\"gridcolor\": \"white\", \"linecolor\": \"white\", \"ticks\": \"\"}}, \"scene\": {\"xaxis\": {\"backgroundcolor\": \"#E5ECF6\", \"gridcolor\": \"white\", \"gridwidth\": 2, \"linecolor\": \"white\", \"showbackground\": true, \"ticks\": \"\", \"zerolinecolor\": \"white\"}, \"yaxis\": {\"backgroundcolor\": \"#E5ECF6\", \"gridcolor\": \"white\", \"gridwidth\": 2, \"linecolor\": \"white\", \"showbackground\": true, \"ticks\": \"\", \"zerolinecolor\": \"white\"}, \"zaxis\": {\"backgroundcolor\": \"#E5ECF6\", \"gridcolor\": \"white\", \"gridwidth\": 2, \"linecolor\": \"white\", \"showbackground\": true, \"ticks\": \"\", \"zerolinecolor\": \"white\"}}, \"shapedefaults\": {\"line\": {\"color\": \"#2a3f5f\"}}, \"ternary\": {\"aaxis\": {\"gridcolor\": \"white\", \"linecolor\": \"white\", \"ticks\": \"\"}, \"baxis\": {\"gridcolor\": \"white\", \"linecolor\": \"white\", \"ticks\": \"\"}, \"bgcolor\": \"#E5ECF6\", \"caxis\": {\"gridcolor\": \"white\", \"linecolor\": \"white\", \"ticks\": \"\"}}, \"title\": {\"x\": 0.05}, \"xaxis\": {\"automargin\": true, \"gridcolor\": \"white\", \"linecolor\": \"white\", \"ticks\": \"\", \"title\": {\"standoff\": 15}, \"zerolinecolor\": \"white\", \"zerolinewidth\": 2}, \"yaxis\": {\"automargin\": true, \"gridcolor\": \"white\", \"linecolor\": \"white\", \"ticks\": \"\", \"title\": {\"standoff\": 15}, \"zerolinecolor\": \"white\", \"zerolinewidth\": 2}}}, \"title\": {\"text\": \"Sentiment Polarity Vs. Closing Price (in USD)\"}, \"yaxis\": {\"title\": {\"text\": \"Closing Price.\"}}, \"yaxis2\": {\"overlaying\": \"y\", \"side\": \"right\", \"tickfont\": {\"color\": \"rgb(148, 103, 189)\"}, \"title\": {\"font\": {\"color\": \"rgb(148, 103, 189)\"}, \"text\": \"Polarity\"}}},\n",
              "                        {\"responsive\": true}\n",
              "                    ).then(function(){\n",
              "                            \n",
              "var gd = document.getElementById('dc43ba17-ba9e-4eaa-95cc-312de00633a5');\n",
              "var x = new MutationObserver(function (mutations, observer) {{\n",
              "        var display = window.getComputedStyle(gd).display;\n",
              "        if (!display || display === 'none') {{\n",
              "            console.log([gd, 'removed!']);\n",
              "            Plotly.purge(gd);\n",
              "            observer.disconnect();\n",
              "        }}\n",
              "}});\n",
              "\n",
              "// Listen for the removal of the full notebook cells\n",
              "var notebookContainer = gd.closest('#notebook-container');\n",
              "if (notebookContainer) {{\n",
              "    x.observe(notebookContainer, {childList: true});\n",
              "}}\n",
              "\n",
              "// Listen for the clearing of the current output cell\n",
              "var outputEl = gd.closest('.output');\n",
              "if (outputEl) {{\n",
              "    x.observe(outputEl, {childList: true});\n",
              "}}\n",
              "\n",
              "                        })\n",
              "                };\n",
              "                \n",
              "            </script>\n",
              "        </div>\n",
              "</body>\n",
              "</html>"
            ]
          },
          "metadata": {
            "tags": []
          }
        }
      ]
    },
    {
      "cell_type": "code",
      "metadata": {
        "id": "DPIDY5OpBV0-",
        "outputId": "b3c61b32-1da7-40ab-93c0-c8f9790ec9c9",
        "colab": {
          "base_uri": "https://localhost:8080/",
          "height": 297
        }
      },
      "source": [
        "# Regression in polarity vs closing price\n",
        "import seaborn as sns\n",
        "import matplotlib as plt\n",
        "sns.regplot(x=dataframe1['Predicted_Polarity'], y=dataframe1['close'], color='red', marker='*')"
      ],
      "execution_count": 31,
      "outputs": [
        {
          "output_type": "execute_result",
          "data": {
            "text/plain": [
              "<matplotlib.axes._subplots.AxesSubplot at 0x7ff00a017be0>"
            ]
          },
          "metadata": {
            "tags": []
          },
          "execution_count": 31
        },
        {
          "output_type": "display_data",
          "data": {
            "image/png": "[encoded data removed]",
            "text/plain": [
              "<Figure size 432x288 with 1 Axes>"
            ]
          },
          "metadata": {
            "tags": [],
            "needs_background": "light"
          }
        }
      ]
    },
    {
      "cell_type": "code",
      "metadata": {
        "id": "oFoilWBXBsR6",
        "outputId": "77762206-7b04-4920-fbe6-5bcf2dc21e33",
        "colab": {
          "base_uri": "https://localhost:8080/"
        }
      },
      "source": [
        "# Calculating the Pearson coefficient\n",
        "from scipy import stats\n",
        "pearson_coef, p_value = stats.pearsonr(dataframe1['Predicted_Polarity'], dataframe1['close'])\n",
        "print(pearson_coef)"
      ],
      "execution_count": 32,
      "outputs": [
        {
          "output_type": "stream",
          "text": [
            "0.8317188691680245\n"
          ],
          "name": "stdout"
        }
      ]
    }
  ]
}